{
 "cells": [
  {
   "cell_type": "markdown",
   "metadata": {},
   "source": [
    "## Tutorial 5: ABC for image reconstruction"
   ]
  },
  {
   "cell_type": "markdown",
   "metadata": {},
   "source": [
    "In this tutorial, you will learn how to use the *Artificial Bee Colony (ABC)* algorithm for an image reconstruction task. Instead of optimizing benchmark functions, we apply *ABC* to reconstruct a target image from the *FashionMNIST* dataset.\n",
    "\n",
    "FashionMNIST is a dataset of grayscale images with dimensions 28x28 pixels. Each image can be hence represented as a point in $\\mathbb{R}^{784}$, \n",
    "where each dimension corresponds to a pixel intensity value in the range $[0, 255]$ (in this tutorial, all the images will be normalized in the range $[0, 1]$).\n",
    "\n",
    "Given a target image $\\textbf{t}$, the goal is to find a point $\\mathbf{x} \\in \\mathbb{R}^{784}$ that minimizes the reconstruction error,defined as:\n",
    "\n",
    "$$\\text{Err}(\\textbf{x}) = \\sum_{i,j} (x_{i,j} - t_{i,j})^2$$"
   ]
  },
  {
   "cell_type": "code",
   "execution_count": 2,
   "metadata": {},
   "outputs": [],
   "source": [
    "import numpy as np\n",
    "from torchvision import datasets, transforms\n",
    "import matplotlib.pyplot as plt\n",
    "from PIL import Image\n",
    "from IPython.display import Image as IPImage\n",
    "from io import BytesIO"
   ]
  },
  {
   "cell_type": "markdown",
   "metadata": {},
   "source": [
    "First, we download the FashionMNIST dataset and visualize our target image."
   ]
  },
  {
   "cell_type": "code",
   "execution_count": null,
   "metadata": {},
   "outputs": [],
   "source": [
    "transform = transforms.Compose([transforms.ToTensor(), transforms.Normalize((0.5,), (0.5,))])\n",
    "#train_data = datasets.FashionMNIST(root='../_static/MNISTdata', train=True, download=True, transform=transform)\n",
    "train_data = datasets.FashionMNIST(root='../docs/source/_static/MNISTdata', train=True, download=True, transform=transform)\n"
   ]
  },
  {
   "cell_type": "code",
   "execution_count": null,
   "metadata": {},
   "outputs": [],
   "source": [
    "image_index = 9\n",
    "target_image = train_data[image_index][0].flatten().numpy()\n",
    "fig, ax = plt.subplots(figsize=(6, 4))\n",
    "cax = ax.imshow(target_image.reshape(28,28), cmap='Blues')\n",
    "fig.colorbar(cax)\n",
    "fig.tight_layout()"
   ]
  },
  {
   "cell_type": "markdown",
   "metadata": {},
   "source": [
    "Let's define the objective function for the *ABC* algorithm."
   ]
  },
  {
   "cell_type": "code",
   "execution_count": 5,
   "metadata": {},
   "outputs": [],
   "source": [
    "def reconstruction_error(x,target=target_image):\n",
    "    \"\"\"_summary_\n",
    "    Args:\n",
    "        x (numpy array)     : vector encoding a candidate image\n",
    "        target (numpy array): vector encoding the target image\n",
    "    Returns:\n",
    "        float: the reconstruction error\n",
    "    \"\"\"\n",
    "    return np.sum((x - target) ** 2)"
   ]
  },
  {
   "cell_type": "code",
   "execution_count": null,
   "metadata": {},
   "outputs": [],
   "source": [
    "from beeoptimal import ArtificialBeeColony\n",
    "\n",
    "ABC = ArtificialBeeColony(\n",
    "    colony_size = 100,\n",
    "    function    = reconstruction_error,\n",
    "    bounds      = np.array([(0.0, 1.0)] * 784)\n",
    "    )\n",
    "\n",
    "\n",
    "ABC.optimize(verbose=True,mutation='ABC/best/1',max_iters=4000)"
   ]
  },
  {
   "cell_type": "code",
   "execution_count": null,
   "metadata": {},
   "outputs": [],
   "source": [
    "# List to store plotly figures\n",
    "plots = []\n",
    "# Adaptive step in order to have gifs with same number of frames\n",
    "step = max(1, (ABC.actual_iters + 1) // 50)  # Note: actual_iters +1 to include initial population\n",
    "# Generate plotly frames\n",
    "for iteration in range(0, (ABC.actual_iters +step), step):  # Note: actual_iters +step be sure including the final population\n",
    "    fig, ax = plt.subplots(figsize=(6,4))\n",
    "    cax = ax.imshow(ABC.optimal_bee_history[iteration].position.reshape(28, 28), cmap='Blues')\n",
    "    fig.colorbar(cax)\n",
    "    ax.set_title(f\"Iteration {iteration}\")\n",
    "    fig.tight_layout()\n",
    "    plt.close(fig)\n",
    "    plots.append(fig)\n",
    "    \n",
    "images = []\n",
    "for fig in plots:\n",
    "    # Save each figure to a BytesIO object in memory instead of a file\n",
    "    img_buf = BytesIO()\n",
    "    fig.savefig(img_buf, format=\"png\",dpi=100)       # Matplotlib version\n",
    "    img_buf.seek(0)  # Rewind the buffer to the start\n",
    "    images.append(Image.open(img_buf))  # Open the image from the buffer\n",
    "    \n",
    "# Create the GIF\n",
    "gif_path = 'path/to/your/gif.gif'\n",
    "images[0].save(gif_path, save_all=True, append_images=images[1:], duration=200, loop=0)\n",
    "IPImage(url=gif_path)"
   ]
  }
 ],
 "metadata": {
  "kernelspec": {
   "display_name": "Python 3",
   "language": "python",
   "name": "python3"
  },
  "language_info": {
   "codemirror_mode": {
    "name": "ipython",
    "version": 3
   },
   "file_extension": ".py",
   "mimetype": "text/x-python",
   "name": "python",
   "nbconvert_exporter": "python",
   "pygments_lexer": "ipython3",
   "version": "3.12.1"
  }
 },
 "nbformat": 4,
 "nbformat_minor": 2
}
