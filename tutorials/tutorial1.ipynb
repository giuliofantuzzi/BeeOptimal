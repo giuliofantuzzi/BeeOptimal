{
 "cells": [
  {
   "cell_type": "markdown",
   "metadata": {},
   "source": [
    "# Tutorial 1: introduction to `BenchmarkFunction` class"
   ]
  },
  {
   "cell_type": "markdown",
   "metadata": {},
   "source": [
    "Benchmark functions are essential for testing optimization algorithms. In this tutorial, you'll learn how to use the `BenchmarkFunction` class, which provides\n",
    "a structured way to define and evaluate benchmark functions for optimization purposes.\n",
    "\n",
    "The `BenchmarkFunction` class allows you to:\n",
    "\n",
    "- Define a (multidimensional) function;\n",
    "- Specify bounds along each dimension;\n",
    "- Evaluate the function at specific points;\n",
    "- Retrieve the optimal value of the function."
   ]
  },
  {
   "cell_type": "markdown",
   "metadata": {},
   "source": [
    "As an example, we will consider the *Rastringin* function, which is a popular benchmark for optimization algorithms. It is known to be a multimodal function with many local minima, defined as follows:\n",
    "\n",
    "$$ f(\\mathbf{x}) = 10 \\cdot D + \\sum_{i=1}^{D} \\left( x_i^2 - 10 \\cdot \\cos(2 \\pi x_i) \\right) $$\n",
    "\n",
    "where $x_i \\in [-5.12, 5.12]$ and $D$ is the dimension of the problem.\n",
    "\n",
    "It has global minimum at $f(\\mathbf{x}^*) = 0$ for $\\mathbf{x}^* = (0, 0, \\ldots, 0)$."
   ]
  },
  {
   "cell_type": "markdown",
   "metadata": {},
   "source": [
    "A general `BenchmarkFunction` object should be initialized with:\n",
    "\n",
    "- A name for the function (optional);\n",
    "- The function itself (as a callable object);\n",
    "- The bounds for each variable (as a NumPy-array);\n",
    "- The optimal solution (as a NumPy-array)."
   ]
  },
  {
   "cell_type": "markdown",
   "metadata": {},
   "source": [
    "Let's see how we can define the *Rastringin* function for $D=5$."
   ]
  },
  {
   "cell_type": "code",
   "execution_count": null,
   "metadata": {},
   "outputs": [],
   "source": [
    "import numpy as np\n",
    "from beeoptimal.benchmarks import BenchmarkFunction"
   ]
  },
  {
   "cell_type": "code",
   "execution_count": 7,
   "metadata": {},
   "outputs": [],
   "source": [
    "D                = 5\n",
    "name             = f\"Rastringin-{D}d\"\n",
    "function         = lambda x: (10*len(x) + np.sum((x**2 - 10*np.cos(2*np.pi*x))))\n",
    "bounds           = np.array([[-5.12, 5.12]]*D)\n",
    "optimal_solution = np.zeros(D)"
   ]
  },
  {
   "cell_type": "code",
   "execution_count": 8,
   "metadata": {},
   "outputs": [],
   "source": [
    "Rastringin2dBenchmark = BenchmarkFunction(\n",
    "    name             = name,\n",
    "    fun              = function,\n",
    "    bounds           = bounds,\n",
    "    optimal_solution = optimal_solution\n",
    ")"
   ]
  },
  {
   "cell_type": "code",
   "execution_count": null,
   "metadata": {},
   "outputs": [],
   "source": [
    "print(f\"\\nBenchmark:\\n {Rastringin2dBenchmark.name}\")\n",
    "print(f\"\\nDefault Bounds:\\n {Rastringin2dBenchmark.bounds}\")\n",
    "print(f\"\\nOptimal Solution:\\n {Rastringin2dBenchmark.optimal_solution}\")\n",
    "print(f\"\\nOptimal Value:\\n {Rastringin2dBenchmark.optimal_value}\")"
   ]
  },
  {
   "cell_type": "markdown",
   "metadata": {},
   "source": [
    "Given a new point $\\mathbf{x} \\in \\mathbb{R}^{5}$, the function can be evaluated as follows:"
   ]
  },
  {
   "cell_type": "code",
   "execution_count": null,
   "metadata": {},
   "outputs": [],
   "source": [
    "x   = np.random.uniform(low=Rastringin2dBenchmark.bounds[:,0], high=Rastringin2dBenchmark.bounds[:,1], size=D)\n",
    "f_x = Rastringin2dBenchmark.evaluate(x)\n",
    "\n",
    "print(f\"{Rastringin2dBenchmark.name} function evaluated at point x={x} --> f(x)={f_x}\")"
   ]
  }
 ],
 "metadata": {
  "kernelspec": {
   "display_name": "Python 3",
   "language": "python",
   "name": "python3"
  },
  "language_info": {
   "codemirror_mode": {
    "name": "ipython",
    "version": 3
   },
   "file_extension": ".py",
   "mimetype": "text/x-python",
   "name": "python",
   "nbconvert_exporter": "python",
   "pygments_lexer": "ipython3",
   "version": "3.12.1"
  }
 },
 "nbformat": 4,
 "nbformat_minor": 2
}
