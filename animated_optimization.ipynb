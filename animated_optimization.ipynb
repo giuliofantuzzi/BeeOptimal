{
 "cells": [
  {
   "cell_type": "code",
   "execution_count": 5,
   "metadata": {},
   "outputs": [],
   "source": [
    "import numpy as np\n",
    "from ABC.abc import ArtificialBeeColony\n",
    "import plotly.graph_objects as go\n",
    "from PIL import Image\n",
    "import tempfile"
   ]
  },
  {
   "cell_type": "code",
   "execution_count": 6,
   "metadata": {},
   "outputs": [
    {
     "name": "stderr",
     "output_type": "stream",
     "text": [
      "Running Optimization: 100%|██████████| 25/25 [00:00<00:00, 541.56it/s]\n"
     ]
    }
   ],
   "source": [
    "def rastrigin(point):\n",
    "    x, y = point\n",
    "    res = 20 + (x**2 - 10*np.cos(2*np.pi*x)) + (y**2 - 10*np.cos(2*np.pi*y))\n",
    "    return res\n",
    "\n",
    "n_bees      = 50\n",
    "limit       = (n_bees // 2) * 2\n",
    "max_iters   = 25\n",
    "\n",
    "ABC = ArtificialBeeColony(n_bees = n_bees,\n",
    "                          limit = limit,\n",
    "                          max_iters = max_iters,\n",
    "                          lower_bound = [-5.12,-5.12],\n",
    "                          upper_bound = [5.12,5.12],\n",
    "                          function = rastrigin,\n",
    "                          )\n",
    "ABC.optimize()"
   ]
  },
  {
   "cell_type": "code",
   "execution_count": 7,
   "metadata": {},
   "outputs": [],
   "source": [
    "x = np.linspace(-5.12, 5.12, 100)\n",
    "y = np.linspace(-5.12, 5.12, 100)\n",
    "X, Y = np.meshgrid(x, y)\n",
    "Z = rastrigin((X, Y))\n",
    "\n",
    "plots = []\n",
    "\n",
    "\n",
    "for iteration,(xx,yy) in enumerate(ABC.optimal_source_history):\n",
    "    \n",
    "    # Create contour plot\n",
    "    fig = go.Figure(data=go.Contour(\n",
    "        z=Z,\n",
    "        x=x,  # x-axis values\n",
    "        y=y,  # y-axis values\n",
    "        colorscale='Greys',  # Colormap\n",
    "        opacity=0.6,\n",
    "        contours=dict(\n",
    "            showlabels=False,  # Show labels on contours\n",
    "            labelfont=dict(\n",
    "                size=12,\n",
    "                color='white'\n",
    "            )\n",
    "        )\n",
    "    ))\n",
    "    fig.update_layout(\n",
    "        title=f'Iteration {iteration+1}/ {ABC.max_iters}',\n",
    "        xaxis_title='X1',\n",
    "        yaxis_title='X2',\n",
    "        width=700,\n",
    "        height=700,\n",
    "    )\n",
    "    #---\n",
    "    fig.add_layout_image(\n",
    "                dict(\n",
    "                    source=Image.open(f\"assets/BeeMarker.png\"),\n",
    "                    xref=\"x\",\n",
    "                    yref=\"y\",\n",
    "                    xanchor=\"center\",\n",
    "                    yanchor=\"middle\",\n",
    "                    x=xx,\n",
    "                    y=yy,\n",
    "                    sizex=0.5,\n",
    "                    sizey=0.5,\n",
    "                    sizing=\"contain\",\n",
    "                    opacity=1,\n",
    "                    layer=\"above\"\n",
    "                )\n",
    "            )\n",
    "    plots.append(fig)"
   ]
  },
  {
   "cell_type": "code",
   "execution_count": 8,
   "metadata": {},
   "outputs": [
    {
     "name": "stdout",
     "output_type": "stream",
     "text": [
      "GIF created and saved at images/rastrigin_animated_optimization.gif\n"
     ]
    }
   ],
   "source": [
    "with tempfile.TemporaryDirectory() as tmpdirname:\n",
    "    image_files = []\n",
    "\n",
    "    # Save each figure as a separate image file\n",
    "    for i, fig in enumerate(plots):\n",
    "        # Define the file path\n",
    "        file_path = f\"{tmpdirname}/frame_{i}.png\"\n",
    "        fig.write_image(file_path, format=\"png\", scale=2)  # Adjust 'scale' for image resolution\n",
    "        image_files.append(file_path)\n",
    "\n",
    "    # Open images and save as GIF\n",
    "    images = [Image.open(file) for file in image_files]\n",
    "    gif_path = \"images/rastrigin_animated_optimization.gif\"\n",
    "    images[0].save(gif_path, save_all=True, append_images=images[1:], duration=500, loop=0)\n",
    "\n",
    "print(f\"GIF created and saved at {gif_path}\")"
   ]
  }
 ],
 "metadata": {
  "kernelspec": {
   "display_name": "Python 3",
   "language": "python",
   "name": "python3"
  },
  "language_info": {
   "codemirror_mode": {
    "name": "ipython",
    "version": 3
   },
   "file_extension": ".py",
   "mimetype": "text/x-python",
   "name": "python",
   "nbconvert_exporter": "python",
   "pygments_lexer": "ipython3",
   "version": "3.12.1"
  }
 },
 "nbformat": 4,
 "nbformat_minor": 2
}
