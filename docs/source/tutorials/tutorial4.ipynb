{
 "cells": [
  {
   "cell_type": "markdown",
   "metadata": {},
   "source": [
    "## Tutorial 4: ABC for image reconstruction"
   ]
  },
  {
   "cell_type": "code",
   "execution_count": 34,
   "metadata": {
    "nbsphinx": "hidden"
   },
   "outputs": [],
   "source": [
    "import plotly.io as pio\n",
    "# Set Plotly to render plots as interactive in notebooks\n",
    "pio.renderers.default = \"notebook\""
   ]
  },
  {
   "cell_type": "code",
   "execution_count": 35,
   "metadata": {},
   "outputs": [],
   "source": [
    "import numpy as np\n",
    "from torchvision import datasets, transforms\n",
    "import matplotlib.pyplot as plt\n",
    "from PIL import Image\n",
    "from IPython.display import Image as IPImage\n",
    "from io import BytesIO"
   ]
  },
  {
   "cell_type": "code",
   "execution_count": 36,
   "metadata": {},
   "outputs": [],
   "source": [
    "transform = transforms.Compose([transforms.ToTensor(), transforms.Normalize((0.5,), (0.5,))])\n",
    "train_data = datasets.FashionMNIST(root='../_static/MNISTdata', train=True, download=True, transform=transform)"
   ]
  },
  {
   "cell_type": "code",
   "execution_count": 37,
   "metadata": {},
   "outputs": [
    {
     "data": {
      "image/png": "[encoded data removed]",
      "text/plain": [
       "<Figure size 1000x600 with 2 Axes>"
      ]
     },
     "metadata": {},
     "output_type": "display_data"
    }
   ],
   "source": [
    "image_index = 9\n",
    "real_image = train_data[image_index][0].squeeze().numpy()\n",
    "fig, ax = plt.subplots(figsize=(10, 6))\n",
    "cax = ax.imshow(real_image, cmap='Blues')\n",
    "fig.colorbar(cax)\n",
    "fig.tight_layout()"
   ]
  },
  {
   "cell_type": "code",
   "execution_count": 38,
   "metadata": {},
   "outputs": [],
   "source": [
    "target = real_image.flatten().copy()\n",
    "\n",
    "def reconstruction_error(x,target=target):\n",
    "    \"\"\"_summary_\n",
    "    Args:\n",
    "        x (numpy array): the solution to the optimization problem\n",
    "    Returns:\n",
    "        float: the reconstruction error\n",
    "    \"\"\"\n",
    "    return np.sum((x - target) ** 2)"
   ]
  },
  {
   "cell_type": "code",
   "execution_count": 42,
   "metadata": {},
   "outputs": [
    {
     "name": "stderr",
     "output_type": "stream",
     "text": [
      "Running Optimization: 100%|██████████|[00:26<00:00]\n"
     ]
    }
   ],
   "source": [
    "from beeoptimal import ArtificialBeeColony\n",
    "\n",
    "abc = ArtificialBeeColony(\n",
    "    n_bees=250,\n",
    "    function=reconstruction_error,\n",
    "    bounds=np.array([(0.0, 1.0)] * 784)\n",
    "    )\n",
    "\n",
    "\n",
    "abc.optimize(verbose=True,mutation='ABC/best/1',max_iters=2000)"
   ]
  },
  {
   "cell_type": "code",
   "execution_count": 43,
   "metadata": {},
   "outputs": [
    {
     "data": {
      "text/html": [
       "<img src=\"../_static/image_reconstruction.gif\"/>"
      ],
      "text/plain": [
       "<IPython.core.display.Image object>"
      ]
     },
     "execution_count": 43,
     "metadata": {},
     "output_type": "execute_result"
    }
   ],
   "source": [
    "# List to store plotly figures\n",
    "plots = []\n",
    "# Adaptive step in order to have gifs with same number of frames\n",
    "step = max(1, (abc.actual_iters + 1) // 50)  # Note: actual_iters +1 to include initial population\n",
    "# Generate plotly frames\n",
    "for iteration in range(0, (abc.actual_iters + 1), step): \n",
    "    fig, ax = plt.subplots(figsize=(10,6))\n",
    "    cax = ax.imshow(abc.optimal_bee_history[iteration].position.reshape(28, 28), cmap='Blues')\n",
    "    fig.colorbar(cax)\n",
    "    ax.set_title(f\"Iteration {iteration}\")\n",
    "    fig.tight_layout()\n",
    "    plt.close(fig)\n",
    "    plots.append(fig)\n",
    "    \n",
    "images = []\n",
    "for fig in plots:\n",
    "    # Save each figure to a BytesIO object in memory instead of a file\n",
    "    img_buf = BytesIO()\n",
    "    #fig.write_image(img_buf, format=\"png\", scale=3)  # Save the Plotly figure as PNG into the buffer\n",
    "    fig.savefig(img_buf, format=\"png\",dpi=200)       # Matplotlib version\n",
    "    img_buf.seek(0)  # Rewind the buffer to the start\n",
    "    images.append(Image.open(img_buf))  # Open the image from the buffer\n",
    "    \n",
    "# Create the GIF\n",
    "#gif_path = tempfile.mktemp(suffix=\".gif\")\n",
    "gif_path = '../_static/image_reconstruction.gif'\n",
    "images[0].save(gif_path, save_all=True, append_images=images[1:], duration=200, loop=0)\n",
    "IPImage(url=gif_path)\n"
   ]
  }
 ],
 "metadata": {
  "kernelspec": {
   "display_name": "Python 3",
   "language": "python",
   "name": "python3"
  },
  "language_info": {
   "codemirror_mode": {
    "name": "ipython",
    "version": 3
   },
   "file_extension": ".py",
   "mimetype": "text/x-python",
   "name": "python",
   "nbconvert_exporter": "python",
   "pygments_lexer": "ipython3",
   "version": "3.12.1"
  }
 },
 "nbformat": 4,
 "nbformat_minor": 2
}
